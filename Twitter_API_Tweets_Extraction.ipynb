{
  "nbformat": 4,
  "nbformat_minor": 0,
  "metadata": {
    "colab": {
      "name": "Twitter_API_Tweets_Extraction.ipynb",
      "provenance": [],
      "mount_file_id": "1JTsN2QRS7ApFUjzXE-Uwi32H9yc14B9H",
      "authorship_tag": "ABX9TyMszsKjRx98uYJx222Z3wRI"
    },
    "kernelspec": {
      "name": "python3",
      "display_name": "Python 3"
    },
    "language_info": {
      "name": "python"
    }
  },
  "cells": [
    {
      "cell_type": "code",
      "metadata": {
        "id": "n7OB2cKgENAh"
      },
      "source": [
        "import pandas as pd\n",
        "import tweepy as tw"
      ],
      "execution_count": null,
      "outputs": []
    },
    {
      "cell_type": "code",
      "metadata": {
        "id": "xqvKj1geFZVo"
      },
      "source": [
        "my_api_key = \"XXXXXXXXXX\"\n",
        "my_api_secret = \"XXXXXXXXXX\"\n",
        "\n",
        "auth = tw.OAuthHandler(my_api_key, my_api_secret)\n",
        "api = tw.API(auth, wait_on_rate_limit=True)"
      ],
      "execution_count": null,
      "outputs": []
    },
    {
      "cell_type": "code",
      "metadata": {
        "colab": {
          "base_uri": "https://localhost:8080/"
        },
        "id": "i6WYOtbGH5uo",
        "outputId": "5778f60e-4b73-4056-f658-8b832b95fa13"
      },
      "source": [
        "search_query = \"\"\" \"vaccine passport\" OR \"vaccine pass\" OR \"pass sanitaire\" OR\n",
        "                  \"sanitary pass\" OR \"sanitary passport\" OR \"health pass\" OR\n",
        "                  \"covid passport\" OR \"covid pass\" -filter:retweets -filter:media\"\"\"\n",
        "                  \n",
        "tweets = tw.Cursor(api.search,\n",
        "              q=search_query,\n",
        "              lang=\"en\",\n",
        "              since=\"2021-05-15\").items(900)\n",
        "\n",
        "tweets_copy = []\n",
        "for tweet in tweets:\n",
        "    tweets_copy.append(tweet)\n",
        "    \n",
        "print(\"Total Tweets fetched:\", len(tweets_copy))"
      ],
      "execution_count": null,
      "outputs": [
        {
          "output_type": "stream",
          "name": "stdout",
          "text": [
            "Total Tweets fetched: 900\n"
          ]
        }
      ]
    },
    {
      "cell_type": "code",
      "metadata": {
        "colab": {
          "base_uri": "https://localhost:8080/",
          "height": 289
        },
        "id": "1_fy1QKyIcUe",
        "outputId": "c4c36dad-9598-4ee5-ce24-dd05c910e46a"
      },
      "source": [
        "tweets_df = pd.DataFrame()\n",
        "\n",
        "for tweet in tweets_copy:\n",
        "    hashtags = []\n",
        "    try:\n",
        "        for hashtag in tweet.entities[\"hashtags\"]:\n",
        "            hashtags.append(hashtag[\"text\"])\n",
        "        text = api.get_status(id=tweet.id, tweet_mode='extended').full_text\n",
        "    except:\n",
        "        pass\n",
        "    tweets_df = tweets_df.append(pd.DataFrame({'user_name': tweet.user.name, \n",
        "                                               'user_location': tweet.user.location,\n",
        "                                               'user_description': tweet.user.description,\n",
        "                                               'user_verified': tweet.user.verified,\n",
        "                                               'date': tweet.created_at,\n",
        "                                               'text': text, \n",
        "                                               'hashtags': [hashtags if hashtags else None],\n",
        "                                               'source': tweet.source}))\n",
        "    tweets_df = tweets_df.reset_index(drop=True)\n",
        "\n",
        "\n",
        "tweets_df.head()"
      ],
      "execution_count": null,
      "outputs": [
        {
          "output_type": "execute_result",
          "data": {
            "text/html": [
              "<div>\n",
              "<style scoped>\n",
              "    .dataframe tbody tr th:only-of-type {\n",
              "        vertical-align: middle;\n",
              "    }\n",
              "\n",
              "    .dataframe tbody tr th {\n",
              "        vertical-align: top;\n",
              "    }\n",
              "\n",
              "    .dataframe thead th {\n",
              "        text-align: right;\n",
              "    }\n",
              "</style>\n",
              "<table border=\"1\" class=\"dataframe\">\n",
              "  <thead>\n",
              "    <tr style=\"text-align: right;\">\n",
              "      <th></th>\n",
              "      <th>user_name</th>\n",
              "      <th>user_location</th>\n",
              "      <th>user_description</th>\n",
              "      <th>user_verified</th>\n",
              "      <th>date</th>\n",
              "      <th>text</th>\n",
              "      <th>hashtags</th>\n",
              "      <th>source</th>\n",
              "    </tr>\n",
              "  </thead>\n",
              "  <tbody>\n",
              "    <tr>\n",
              "      <th>0</th>\n",
              "      <td>Matthew macaree</td>\n",
              "      <td>glasgow</td>\n",
              "      <td>Scotland! Glasgow! got a boy who is 5 and is m...</td>\n",
              "      <td>False</td>\n",
              "      <td>2021-09-10 09:36:10</td>\n",
              "      <td>@AlbzSFC @gingerjoseph200 @Liam_H_11 No im not...</td>\n",
              "      <td>None</td>\n",
              "      <td>Twitter for Android</td>\n",
              "    </tr>\n",
              "    <tr>\n",
              "      <th>1</th>\n",
              "      <td>Roger Village 🇨🇩</td>\n",
              "      <td>Currently Paris</td>\n",
              "      <td>Sky Scraping Gents to Paradise Kings.\\n\\nEphes...</td>\n",
              "      <td>False</td>\n",
              "      <td>2021-09-10 09:36:09</td>\n",
              "      <td>We will eventually get manipulated into that s...</td>\n",
              "      <td>None</td>\n",
              "      <td>Twitter for Android</td>\n",
              "    </tr>\n",
              "    <tr>\n",
              "      <th>2</th>\n",
              "      <td>Vicky 👸🏻</td>\n",
              "      <td>Scotland, United Kingdom</td>\n",
              "      <td>oops!</td>\n",
              "      <td>False</td>\n",
              "      <td>2021-09-10 09:35:59</td>\n",
              "      <td>@mscott7612 @sanshee01 Well forcing a vaccine ...</td>\n",
              "      <td>None</td>\n",
              "      <td>Twitter for iPhone</td>\n",
              "    </tr>\n",
              "    <tr>\n",
              "      <th>3</th>\n",
              "      <td>T-Rez</td>\n",
              "      <td>S-Town</td>\n",
              "      <td>still breathing I'm good</td>\n",
              "      <td>False</td>\n",
              "      <td>2021-09-10 09:35:57</td>\n",
              "      <td>@_ivandaniel31 Yeah cdc card worked good all o...</td>\n",
              "      <td>None</td>\n",
              "      <td>Twitter for Android</td>\n",
              "    </tr>\n",
              "    <tr>\n",
              "      <th>4</th>\n",
              "      <td>Tom Ayers</td>\n",
              "      <td>Sydney, Cape Breton, N.S.</td>\n",
              "      <td>Reporter/editor.                              ...</td>\n",
              "      <td>False</td>\n",
              "      <td>2021-09-10 09:35:52</td>\n",
              "      <td>Why not using the term 'vaccine passport' coul...</td>\n",
              "      <td>None</td>\n",
              "      <td>Twitter for Android</td>\n",
              "    </tr>\n",
              "  </tbody>\n",
              "</table>\n",
              "</div>"
            ],
            "text/plain": [
              "          user_name              user_location  ... hashtags               source\n",
              "0   Matthew macaree                    glasgow  ...     None  Twitter for Android\n",
              "1  Roger Village 🇨🇩            Currently Paris  ...     None  Twitter for Android\n",
              "2          Vicky 👸🏻   Scotland, United Kingdom  ...     None   Twitter for iPhone\n",
              "3             T-Rez                     S-Town  ...     None  Twitter for Android\n",
              "4         Tom Ayers  Sydney, Cape Breton, N.S.  ...     None  Twitter for Android\n",
              "\n",
              "[5 rows x 8 columns]"
            ]
          },
          "metadata": {},
          "execution_count": 6
        }
      ]
    },
    {
      "cell_type": "code",
      "metadata": {
        "id": "i-eEhz7WP4vV",
        "colab": {
          "base_uri": "https://localhost:8080/",
          "height": 445
        },
        "outputId": "26bab728-0a46-4485-8fab-5ba01789dc1b"
      },
      "source": [
        "tweets_df.tail(5)"
      ],
      "execution_count": null,
      "outputs": [
        {
          "output_type": "execute_result",
          "data": {
            "text/html": [
              "<div>\n",
              "<style scoped>\n",
              "    .dataframe tbody tr th:only-of-type {\n",
              "        vertical-align: middle;\n",
              "    }\n",
              "\n",
              "    .dataframe tbody tr th {\n",
              "        vertical-align: top;\n",
              "    }\n",
              "\n",
              "    .dataframe thead th {\n",
              "        text-align: right;\n",
              "    }\n",
              "</style>\n",
              "<table border=\"1\" class=\"dataframe\">\n",
              "  <thead>\n",
              "    <tr style=\"text-align: right;\">\n",
              "      <th></th>\n",
              "      <th>user_name</th>\n",
              "      <th>user_location</th>\n",
              "      <th>user_description</th>\n",
              "      <th>user_verified</th>\n",
              "      <th>date</th>\n",
              "      <th>text</th>\n",
              "      <th>hashtags</th>\n",
              "      <th>source</th>\n",
              "    </tr>\n",
              "  </thead>\n",
              "  <tbody>\n",
              "    <tr>\n",
              "      <th>895</th>\n",
              "      <td>Freedom Eagle</td>\n",
              "      <td>Coronatopia</td>\n",
              "      <td>The traditional blindfold on Lady Justice was ...</td>\n",
              "      <td>False</td>\n",
              "      <td>2021-09-10 02:54:20</td>\n",
              "      <td>One party provided the supports to get Canadia...</td>\n",
              "      <td>None</td>\n",
              "      <td>Twitter for Android</td>\n",
              "    </tr>\n",
              "    <tr>\n",
              "      <th>896</th>\n",
              "      <td>Dsup27</td>\n",
              "      <td></td>\n",
              "      <td></td>\n",
              "      <td>False</td>\n",
              "      <td>2021-09-10 02:53:59</td>\n",
              "      <td>@HolderOftheFire @bacchaus351 No there just de...</td>\n",
              "      <td>None</td>\n",
              "      <td>Twitter for iPhone</td>\n",
              "    </tr>\n",
              "    <tr>\n",
              "      <th>897</th>\n",
              "      <td>barry Adams</td>\n",
              "      <td></td>\n",
              "      <td>from BROOKLYN NY, god's country and trump is a...</td>\n",
              "      <td>False</td>\n",
              "      <td>2021-09-10 02:53:30</td>\n",
              "      <td>everybody in this country needs a vaccine pass...</td>\n",
              "      <td>None</td>\n",
              "      <td>Twitter Web App</td>\n",
              "    </tr>\n",
              "    <tr>\n",
              "      <th>898</th>\n",
              "      <td>Élise</td>\n",
              "      <td>the Diet Coke aisle</td>\n",
              "      <td>Conservative woman always in search of a @diet...</td>\n",
              "      <td>False</td>\n",
              "      <td>2021-09-10 02:53:14</td>\n",
              "      <td>@RachelNotley No not at all , because I know y...</td>\n",
              "      <td>None</td>\n",
              "      <td>Twitter for iPhone</td>\n",
              "    </tr>\n",
              "    <tr>\n",
              "      <th>899</th>\n",
              "      <td>MetalFace Melly</td>\n",
              "      <td></td>\n",
              "      <td>Here to laugh at the misfortune of others. || ...</td>\n",
              "      <td>False</td>\n",
              "      <td>2021-09-10 02:52:56</td>\n",
              "      <td>Anna Paul barely answered the vaccine passport...</td>\n",
              "      <td>[cdnpoli]</td>\n",
              "      <td>Twitter for iPhone</td>\n",
              "    </tr>\n",
              "  </tbody>\n",
              "</table>\n",
              "</div>"
            ],
            "text/plain": [
              "           user_name        user_location  ...   hashtags               source\n",
              "895    Freedom Eagle          Coronatopia  ...       None  Twitter for Android\n",
              "896           Dsup27                       ...       None   Twitter for iPhone\n",
              "897      barry Adams                       ...       None      Twitter Web App\n",
              "898            Élise  the Diet Coke aisle  ...       None   Twitter for iPhone\n",
              "899  MetalFace Melly                       ...  [cdnpoli]   Twitter for iPhone\n",
              "\n",
              "[5 rows x 8 columns]"
            ]
          },
          "metadata": {},
          "execution_count": 7
        }
      ]
    },
    {
      "cell_type": "code",
      "metadata": {
        "id": "i8Y8FVAESH4v"
      },
      "source": [
        "tweets_df.to_csv(\"df10.csv\", index=False)"
      ],
      "execution_count": null,
      "outputs": []
    }
  ]
}