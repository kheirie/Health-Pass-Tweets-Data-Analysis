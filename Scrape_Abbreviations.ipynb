{
  "nbformat": 4,
  "nbformat_minor": 0,
  "metadata": {
    "colab": {
      "name": "Scrape-Abbreviations.ipynb",
      "provenance": [],
      "mount_file_id": "1wJjZ2u0O-qKzwHLsQFTGR_bE0hUjwiYB",
      "authorship_tag": "ABX9TyOSKAXCDZbLLMXbxuvN3HR9"
    },
    "kernelspec": {
      "name": "python3",
      "display_name": "Python 3"
    },
    "language_info": {
      "name": "python"
    }
  },
  "cells": [
    {
      "cell_type": "markdown",
      "metadata": {
        "id": "kr2CV2lD9rBv"
      },
      "source": [
        "**The goal is to create a file that contains slang and their equivelant full form to be used in tweets preprocessing**\n",
        "\n",
        "Source: https://www.noslang.com/dictionary/1/\n",
        "\n",
        "Reference: https://medium.com/coinmonks/remaking-of-shortened-sms-tweet-post-slangs-and-word-contraction-into-sentences-nlp-7bd1bbc6fcff "
      ]
    },
    {
      "cell_type": "code",
      "metadata": {
        "id": "yHxHyw4PcEEA"
      },
      "source": [
        "import pandas as pd\n",
        "from bs4 import BeautifulSoup \n",
        "import requests\n",
        "import re \n",
        "from time import sleep\n",
        "from subprocess import check_output\n",
        "import json, bs4"
      ],
      "execution_count": null,
      "outputs": []
    },
    {
      "cell_type": "code",
      "metadata": {
        "id": "MxQYcf1CBqBJ"
      },
      "source": [
        "URL = \"https://www.noslang.com/dictionary/1/\" \n",
        "page = requests.get(URL)\n",
        "soup = BeautifulSoup(page.text, 'html.parser')"
      ],
      "execution_count": null,
      "outputs": []
    },
    {
      "cell_type": "code",
      "metadata": {
        "id": "9zhmpDMy-BzR"
      },
      "source": [
        "letters = ['#', 'a', 'b', 'c', 'd', 'e', 'f', 'g', 'h', 'i', 'j', 'k', 'l', 'm', 'n', 'o', 'p', 'q', 'r', 's', 't', 'u', 'v', 'w', 'x', 'y', 'z']\n",
        "slang_dict = dict()\n",
        "\n",
        "for letter in letters:\n",
        "  if letter == '#':\n",
        "    URL = \"https://www.noslang.com/dictionary/1/\" \n",
        "    page = requests.get(URL)\n",
        "    soup = BeautifulSoup(page.text, 'html.parser')\n",
        "  else:\n",
        "    URL = \"https://www.noslang.com/dictionary/\" + letter + \"/\"\n",
        "    page = requests.get(URL)\n",
        "    soup = BeautifulSoup(page.text, 'html.parser')\n",
        "  \n",
        "  for i in soup.findAll('div',{'class':'dictionary-word'}): \n",
        "      try: \n",
        "        slang_dict[(i.find('span').text[:-2])] = i.find('abbr')['title']\n",
        "      except: \n",
        "        continue \n"
      ],
      "execution_count": null,
      "outputs": []
    },
    {
      "cell_type": "code",
      "metadata": {
        "id": "7ulnbdXuHrDW"
      },
      "source": [
        "with open('slangdict.json','w') as file:\n",
        "    json.dump(slang_dict,file)"
      ],
      "execution_count": null,
      "outputs": []
    }
  ]
}